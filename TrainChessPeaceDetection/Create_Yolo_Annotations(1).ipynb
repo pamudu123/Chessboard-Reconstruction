{
  "nbformat": 4,
  "nbformat_minor": 0,
  "metadata": {
    "colab": {
      "provenance": []
    },
    "kernelspec": {
      "name": "python3",
      "display_name": "Python 3"
    },
    "language_info": {
      "name": "python"
    },
    "gpuClass": "standard"
  },
  "cells": [
    {
      "cell_type": "markdown",
      "source": [
        "# **Train Chess Peace Detection - 1**"
      ],
      "metadata": {
        "id": "qWar6mD_wJzH"
      }
    },
    {
      "cell_type": "markdown",
      "source": [
        "I am using [dataset from Roboflow Universe](https://public.roboflow.com/object-detection/chess-full) for initial trainning of our model\n",
        "\n",
        "We are in the process of creating our own custom dataset\n"
      ],
      "metadata": {
        "id": "K4KOPbLdwlLz"
      }
    },
    {
      "cell_type": "markdown",
      "source": [
        "\n",
        "\n",
        "---\n",
        "I am making modifications to the original dataset. In the original dataset, there are 12 classes, which separates black and white pieces. \n",
        "I have combined these into one class, reducing the total number of prediction classes to 6. \n",
        "This is because when I first trained on the original Roboflow dataset, it did not produce good results as the total number of images was not sufficient enough to extract features to differentiate 12 classes.\n",
        "Later in the machine learning pipeline, I use statistical method to separate white and black pieces\n",
        "\n",
        "---\n",
        "\n",
        "\n",
        "\n"
      ],
      "metadata": {
        "id": "ZR0gzkP2xPLT"
      }
    },
    {
      "cell_type": "markdown",
      "source": [
        "First I am using Pascal VOC annotation type and later convert it to YOLO txt format"
      ],
      "metadata": {
        "id": "rdes5p0Jzzzz"
      }
    },
    {
      "cell_type": "code",
      "execution_count": null,
      "metadata": {
        "colab": {
          "base_uri": "https://localhost:8080/"
        },
        "id": "KUbYosIrAuz_",
        "outputId": "9236296b-700a-4b74-8ed7-f58dd00c5fe8"
      },
      "outputs": [
        {
          "output_type": "stream",
          "name": "stdout",
          "text": [
            "Mounted at /content/drive\n"
          ]
        }
      ],
      "source": [
        "from google.colab import drive\n",
        "drive.mount('/content/drive')"
      ]
    },
    {
      "cell_type": "code",
      "source": [
        "%cd /content/drive/MyDrive/Yolo_chess_project"
      ],
      "metadata": {
        "colab": {
          "base_uri": "https://localhost:8080/"
        },
        "id": "C7ZnmtluA8Aj",
        "outputId": "c10a1d7e-8b5e-4a2e-e6a4-975694308a1f"
      },
      "execution_count": null,
      "outputs": [
        {
          "output_type": "stream",
          "name": "stdout",
          "text": [
            "/content/drive/MyDrive/Yolo_chess_project\n"
          ]
        }
      ]
    },
    {
      "cell_type": "code",
      "source": [
        "!ls"
      ],
      "metadata": {
        "colab": {
          "base_uri": "https://localhost:8080/"
        },
        "id": "6w-PRgHTA-Tt",
        "outputId": "10aa4ea3-cee6-4bea-bd2d-1b9ddd921fd2"
      },
      "execution_count": null,
      "outputs": [
        {
          "output_type": "stream",
          "name": "stdout",
          "text": [
            "Pascal_VOC  TrainChess_1.ipynb\n"
          ]
        }
      ]
    },
    {
      "cell_type": "code",
      "source": [
        "%cd Pascal_VOC"
      ],
      "metadata": {
        "colab": {
          "base_uri": "https://localhost:8080/"
        },
        "id": "_H7ylNdFCF54",
        "outputId": "28565045-1dfb-46fe-861f-d7581b642340"
      },
      "execution_count": null,
      "outputs": [
        {
          "output_type": "stream",
          "name": "stdout",
          "text": [
            "/content/drive/MyDrive/Yolo_chess_project/Pascal_VOC\n"
          ]
        }
      ]
    },
    {
      "cell_type": "code",
      "source": [
        "# !pip install roboflow\n",
        "\n",
        "# from roboflow import Roboflow\n",
        "# rf = Roboflow(api_key=\"ILLoEbPVZgGijhAaBBpr\")\n",
        "# project = rf.workspace(\"pamudu-ranasinghe-40u8b\").project(\"chess-full-coj1o\")\n",
        "# dataset = project.version(1).download(\"voc\")"
      ],
      "metadata": {
        "id": "h0BFyzZMBCg-"
      },
      "execution_count": null,
      "outputs": []
    },
    {
      "cell_type": "code",
      "source": [
        "import os"
      ],
      "metadata": {
        "id": "OSZUE8juJfTZ"
      },
      "execution_count": null,
      "outputs": []
    },
    {
      "cell_type": "code",
      "source": [
        "data_dir = r'/content/drive/MyDrive/Yolo_chess_project/Pascal_VOC/Chess-Pieces-1/train'\n",
        "xml_files = []\n",
        "\n",
        "for filename in os.listdir(data_dir):\n",
        "    if filename.endswith('.xml'):\n",
        "        xml_files.append(os.path.join(data_dir, filename))\n",
        "\n",
        "print(len(xml_files))"
      ],
      "metadata": {
        "colab": {
          "base_uri": "https://localhost:8080/"
        },
        "id": "2RBnNNeAJDii",
        "outputId": "9ffb2fda-eda3-4359-d982-5c084829de9b"
      },
      "execution_count": null,
      "outputs": [
        {
          "output_type": "stream",
          "name": "stdout",
          "text": [
            "202\n"
          ]
        }
      ]
    },
    {
      "cell_type": "code",
      "source": [
        "test_xml_path = xml_files[100]"
      ],
      "metadata": {
        "id": "syr__k-FCR-a"
      },
      "execution_count": null,
      "outputs": []
    },
    {
      "cell_type": "code",
      "source": [
        "!ls"
      ],
      "metadata": {
        "colab": {
          "base_uri": "https://localhost:8080/"
        },
        "id": "risGXXZ_MAQv",
        "outputId": "a4ffe437-49d2-4225-eefb-f3b584964a62"
      },
      "execution_count": null,
      "outputs": [
        {
          "output_type": "stream",
          "name": "stdout",
          "text": [
            "Chess-Pieces-1\tfile.xml\n"
          ]
        }
      ]
    },
    {
      "cell_type": "code",
      "source": [
        "folder_dir = r'/content/drive/MyDrive/Yolo_chess_project/Pascal_VOC/Chess-Pieces-1'\n",
        "save_dir = r'/content/drive/MyDrive/Yolo_chess_project/Pascal_VOC/Chess-Pieces-Modified'"
      ],
      "metadata": {
        "id": "X6g02YylMdhA"
      },
      "execution_count": null,
      "outputs": []
    },
    {
      "cell_type": "code",
      "source": [
        "if not os.path.exists(save_dir):\n",
        "  os.makedirs(save_dir)"
      ],
      "metadata": {
        "id": "lvEkdV9FM-5P"
      },
      "execution_count": null,
      "outputs": []
    },
    {
      "cell_type": "code",
      "source": [
        "print(os.listdir(folder_dir))"
      ],
      "metadata": {
        "colab": {
          "base_uri": "https://localhost:8080/"
        },
        "id": "ELkAWxoeOy85",
        "outputId": "68235ceb-69e9-428d-ebad-a63199e7a9f7"
      },
      "execution_count": null,
      "outputs": [
        {
          "output_type": "stream",
          "name": "stdout",
          "text": [
            "['README.roboflow.txt', 'test', 'train', 'valid']\n"
          ]
        }
      ]
    },
    {
      "cell_type": "markdown",
      "source": [
        "Function to change xml annotations "
      ],
      "metadata": {
        "id": "K3DKozu70VDx"
      }
    },
    {
      "cell_type": "code",
      "source": [
        "peaces = ['king','queen','rook','bishop','knight','pawn']\n",
        "import xml.etree.ElementTree as ET\n",
        "\n",
        "def modify_xml(xml_path,save_xml_path):\n",
        "  # Load the XML file\n",
        "  tree = ET.parse(xml_path)\n",
        "  root = tree.getroot()\n",
        "\n",
        "  # Find the element you want to change\n",
        "  for elem in root.iter():\n",
        "    #print(elem.tag,elem.text)\n",
        "    if elem.tag == 'name':\n",
        "        # Change the value of the element\n",
        "        pre_val = elem.text\n",
        "        try:\n",
        "          new_val = pre_val.split(\"-\")[1].lower()\n",
        "          if new_val in peaces:\n",
        "            elem.text = new_val\n",
        "          else:\n",
        "            print(f'Not Identified Peace : {pre_val}')\n",
        "        except:\n",
        "            if pre_val in peaces:\n",
        "              elem.text = pre_val\n",
        "            print(f\"Cannot Process: {pre_val}\")\n",
        "            print(save_xml_path)\n",
        "            print(\"==\"*10)\n",
        "\n",
        "  # Write the changes back to the file\n",
        "  tree.write(save_xml_path)"
      ],
      "metadata": {
        "id": "RxmIeRNax75K"
      },
      "execution_count": null,
      "outputs": []
    },
    {
      "cell_type": "code",
      "source": [
        "import shutil"
      ],
      "metadata": {
        "id": "HirpTkQrzHkB"
      },
      "execution_count": null,
      "outputs": []
    },
    {
      "cell_type": "markdown",
      "source": [
        "Save images in Train Valid and Test folders seperately"
      ],
      "metadata": {
        "id": "9kDudSlF0Mz4"
      }
    },
    {
      "cell_type": "code",
      "source": [
        "partition_list = ['test', 'train', 'valid']\n",
        "\n",
        "c = 0\n",
        "for p_list in os.listdir(folder_dir):\n",
        "  if p_list in partition_list:\n",
        "    save_image_folder = os.path.join(save_dir,p_list,'images')\n",
        "    save_label_folder = os.path.join(save_dir,p_list,'labels')\n",
        "    if not os.path.exists(save_image_folder):\n",
        "      os.makedirs(save_image_folder)\n",
        "    if not os.path.exists(save_label_folder):\n",
        "      os.makedirs(save_label_folder)\n",
        "\n",
        "    partion_folder = os.path.join(folder_dir,p_list)\n",
        "    folder_iteams = os.listdir(partion_folder)\n",
        "    for iteam in folder_iteams:\n",
        "      if iteam.endswith('.jpg'):\n",
        "        c+=1\n",
        "        print(f'{p_list} : {c} / {len(folder_iteams)}')\n",
        "        img_path = os.path.join(partion_folder,iteam)\n",
        "        xml_name = f'{iteam[:-4]}.xml'\n",
        "        xml_path = os.path.join(partion_folder,xml_name)\n",
        "\n",
        "        save_image_name = f'{p_list}_{c}.jpg'\n",
        "        save_xml_name = f'{p_list}_{c}.xml'\n",
        "        save_image_path = os.path.join(save_image_folder,save_image_name)\n",
        "        save_xml_path = os.path.join(save_label_folder,save_xml_name)\n",
        "\n",
        "        modify_xml(xml_path,save_xml_path)\n",
        "        shutil.copy(img_path, save_image_path)"
      ],
      "metadata": {
        "colab": {
          "base_uri": "https://localhost:8080/"
        },
        "id": "7S9ke0NLSgR_",
        "outputId": "3b10ca8f-2c08-42d5-f150-3658bdcfcbba"
      },
      "execution_count": null,
      "outputs": [
        {
          "output_type": "stream",
          "name": "stdout",
          "text": [
            "test : 1 / 58\n",
            "test : 2 / 58\n",
            "test : 3 / 58\n",
            "test : 4 / 58\n",
            "test : 5 / 58\n",
            "test : 6 / 58\n",
            "test : 7 / 58\n",
            "test : 8 / 58\n",
            "test : 9 / 58\n",
            "test : 10 / 58\n",
            "test : 11 / 58\n",
            "test : 12 / 58\n",
            "test : 13 / 58\n",
            "test : 14 / 58\n",
            "test : 15 / 58\n",
            "test : 16 / 58\n",
            "test : 17 / 58\n",
            "test : 18 / 58\n",
            "test : 19 / 58\n",
            "test : 20 / 58\n",
            "test : 21 / 58\n",
            "test : 22 / 58\n",
            "test : 23 / 58\n",
            "test : 24 / 58\n",
            "test : 25 / 58\n",
            "test : 26 / 58\n",
            "test : 27 / 58\n",
            "test : 28 / 58\n",
            "test : 29 / 58\n",
            "train : 30 / 404\n",
            "train : 31 / 404\n",
            "train : 32 / 404\n",
            "train : 33 / 404\n",
            "train : 34 / 404\n",
            "train : 35 / 404\n",
            "train : 36 / 404\n",
            "train : 37 / 404\n",
            "train : 38 / 404\n",
            "train : 39 / 404\n",
            "train : 40 / 404\n",
            "train : 41 / 404\n",
            "train : 42 / 404\n",
            "train : 43 / 404\n",
            "train : 44 / 404\n",
            "train : 45 / 404\n",
            "train : 46 / 404\n",
            "train : 47 / 404\n",
            "train : 48 / 404\n",
            "train : 49 / 404\n",
            "train : 50 / 404\n",
            "train : 51 / 404\n",
            "train : 52 / 404\n",
            "train : 53 / 404\n",
            "train : 54 / 404\n",
            "train : 55 / 404\n",
            "train : 56 / 404\n",
            "train : 57 / 404\n",
            "train : 58 / 404\n",
            "train : 59 / 404\n",
            "train : 60 / 404\n",
            "train : 61 / 404\n",
            "train : 62 / 404\n",
            "train : 63 / 404\n",
            "train : 64 / 404\n",
            "train : 65 / 404\n",
            "train : 66 / 404\n",
            "train : 67 / 404\n",
            "train : 68 / 404\n",
            "train : 69 / 404\n",
            "train : 70 / 404\n",
            "train : 71 / 404\n",
            "train : 72 / 404\n",
            "train : 73 / 404\n",
            "train : 74 / 404\n",
            "train : 75 / 404\n",
            "train : 76 / 404\n",
            "train : 77 / 404\n",
            "train : 78 / 404\n",
            "train : 79 / 404\n",
            "train : 80 / 404\n",
            "train : 81 / 404\n",
            "train : 82 / 404\n",
            "train : 83 / 404\n",
            "train : 84 / 404\n",
            "train : 85 / 404\n",
            "train : 86 / 404\n",
            "train : 87 / 404\n",
            "train : 88 / 404\n",
            "train : 89 / 404\n",
            "train : 90 / 404\n",
            "train : 91 / 404\n",
            "train : 92 / 404\n",
            "train : 93 / 404\n",
            "train : 94 / 404\n",
            "train : 95 / 404\n",
            "train : 96 / 404\n",
            "train : 97 / 404\n",
            "train : 98 / 404\n",
            "train : 99 / 404\n",
            "train : 100 / 404\n",
            "train : 101 / 404\n",
            "train : 102 / 404\n",
            "train : 103 / 404\n",
            "train : 104 / 404\n",
            "train : 105 / 404\n",
            "train : 106 / 404\n",
            "train : 107 / 404\n",
            "train : 108 / 404\n",
            "train : 109 / 404\n",
            "train : 110 / 404\n",
            "train : 111 / 404\n",
            "train : 112 / 404\n",
            "train : 113 / 404\n",
            "train : 114 / 404\n",
            "train : 115 / 404\n",
            "train : 116 / 404\n",
            "train : 117 / 404\n",
            "train : 118 / 404\n",
            "train : 119 / 404\n",
            "train : 120 / 404\n",
            "train : 121 / 404\n",
            "train : 122 / 404\n",
            "train : 123 / 404\n",
            "train : 124 / 404\n",
            "train : 125 / 404\n",
            "train : 126 / 404\n",
            "train : 127 / 404\n",
            "train : 128 / 404\n",
            "train : 129 / 404\n",
            "train : 130 / 404\n",
            "train : 131 / 404\n",
            "train : 132 / 404\n",
            "train : 133 / 404\n",
            "train : 134 / 404\n",
            "train : 135 / 404\n",
            "train : 136 / 404\n",
            "train : 137 / 404\n",
            "train : 138 / 404\n",
            "train : 139 / 404\n",
            "train : 140 / 404\n",
            "train : 141 / 404\n",
            "train : 142 / 404\n",
            "train : 143 / 404\n",
            "train : 144 / 404\n",
            "train : 145 / 404\n",
            "train : 146 / 404\n",
            "train : 147 / 404\n",
            "train : 148 / 404\n",
            "train : 149 / 404\n",
            "train : 150 / 404\n",
            "train : 151 / 404\n",
            "train : 152 / 404\n",
            "train : 153 / 404\n",
            "train : 154 / 404\n",
            "train : 155 / 404\n",
            "train : 156 / 404\n",
            "train : 157 / 404\n",
            "train : 158 / 404\n",
            "train : 159 / 404\n",
            "train : 160 / 404\n",
            "train : 161 / 404\n",
            "train : 162 / 404\n",
            "train : 163 / 404\n",
            "train : 164 / 404\n",
            "train : 165 / 404\n",
            "train : 166 / 404\n",
            "train : 167 / 404\n",
            "train : 168 / 404\n",
            "train : 169 / 404\n",
            "train : 170 / 404\n",
            "train : 171 / 404\n",
            "train : 172 / 404\n",
            "train : 173 / 404\n",
            "train : 174 / 404\n",
            "train : 175 / 404\n",
            "train : 176 / 404\n",
            "train : 177 / 404\n",
            "train : 178 / 404\n",
            "train : 179 / 404\n",
            "train : 180 / 404\n",
            "train : 181 / 404\n",
            "train : 182 / 404\n",
            "train : 183 / 404\n",
            "train : 184 / 404\n",
            "train : 185 / 404\n",
            "train : 186 / 404\n",
            "train : 187 / 404\n",
            "train : 188 / 404\n",
            "train : 189 / 404\n",
            "train : 190 / 404\n",
            "train : 191 / 404\n",
            "train : 192 / 404\n",
            "train : 193 / 404\n",
            "train : 194 / 404\n",
            "train : 195 / 404\n",
            "train : 196 / 404\n",
            "train : 197 / 404\n",
            "train : 198 / 404\n",
            "train : 199 / 404\n",
            "train : 200 / 404\n",
            "train : 201 / 404\n",
            "train : 202 / 404\n",
            "train : 203 / 404\n",
            "train : 204 / 404\n",
            "train : 205 / 404\n",
            "train : 206 / 404\n",
            "train : 207 / 404\n",
            "train : 208 / 404\n",
            "train : 209 / 404\n",
            "train : 210 / 404\n",
            "train : 211 / 404\n",
            "train : 212 / 404\n",
            "train : 213 / 404\n",
            "train : 214 / 404\n",
            "train : 215 / 404\n",
            "train : 216 / 404\n",
            "train : 217 / 404\n",
            "train : 218 / 404\n",
            "train : 219 / 404\n",
            "train : 220 / 404\n",
            "train : 221 / 404\n",
            "Cannot Process: bishop\n",
            "/content/drive/MyDrive/Yolo_chess_project/Pascal_VOC/Chess-Pieces-Modified/train/labels/train_221.xml\n",
            "====================\n",
            "train : 222 / 404\n",
            "train : 223 / 404\n",
            "train : 224 / 404\n",
            "train : 225 / 404\n",
            "train : 226 / 404\n",
            "train : 227 / 404\n",
            "train : 228 / 404\n",
            "train : 229 / 404\n",
            "train : 230 / 404\n",
            "train : 231 / 404\n",
            "valid : 232 / 116\n",
            "valid : 233 / 116\n",
            "valid : 234 / 116\n",
            "valid : 235 / 116\n",
            "valid : 236 / 116\n",
            "valid : 237 / 116\n",
            "valid : 238 / 116\n",
            "valid : 239 / 116\n",
            "valid : 240 / 116\n",
            "valid : 241 / 116\n",
            "valid : 242 / 116\n",
            "valid : 243 / 116\n",
            "valid : 244 / 116\n",
            "valid : 245 / 116\n",
            "valid : 246 / 116\n",
            "valid : 247 / 116\n",
            "valid : 248 / 116\n",
            "valid : 249 / 116\n",
            "valid : 250 / 116\n",
            "valid : 251 / 116\n",
            "valid : 252 / 116\n",
            "valid : 253 / 116\n",
            "valid : 254 / 116\n",
            "valid : 255 / 116\n",
            "valid : 256 / 116\n",
            "valid : 257 / 116\n",
            "valid : 258 / 116\n",
            "valid : 259 / 116\n",
            "valid : 260 / 116\n",
            "valid : 261 / 116\n",
            "valid : 262 / 116\n",
            "valid : 263 / 116\n",
            "valid : 264 / 116\n",
            "valid : 265 / 116\n",
            "valid : 266 / 116\n",
            "valid : 267 / 116\n",
            "valid : 268 / 116\n",
            "valid : 269 / 116\n",
            "valid : 270 / 116\n",
            "valid : 271 / 116\n",
            "valid : 272 / 116\n",
            "valid : 273 / 116\n",
            "valid : 274 / 116\n",
            "valid : 275 / 116\n",
            "valid : 276 / 116\n",
            "valid : 277 / 116\n",
            "valid : 278 / 116\n",
            "valid : 279 / 116\n",
            "valid : 280 / 116\n",
            "valid : 281 / 116\n",
            "valid : 282 / 116\n",
            "valid : 283 / 116\n",
            "valid : 284 / 116\n",
            "valid : 285 / 116\n",
            "valid : 286 / 116\n",
            "valid : 287 / 116\n",
            "valid : 288 / 116\n",
            "valid : 289 / 116\n"
          ]
        }
      ]
    },
    {
      "cell_type": "markdown",
      "source": [
        "I have also uploaded the modified dataset to the Roboflow platform. \n",
        "If needed, you may use it as well\n",
        "\n",
        "https://app.roboflow.com/pamudu-ranasinghe-40u8b/modified-chess-peaces/1\n"
      ],
      "metadata": {
        "id": "cHMzs6J40frx"
      }
    }
  ]
}