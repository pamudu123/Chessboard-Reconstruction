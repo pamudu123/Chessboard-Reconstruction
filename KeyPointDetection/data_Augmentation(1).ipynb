{
  "cells": [
    {
      "cell_type": "markdown",
      "source": [
        "# **Key Point Detection -1**"
      ],
      "metadata": {
        "id": "-XW4nj-ypCAM"
      }
    },
    {
      "cell_type": "markdown",
      "source": [
        "### **Image Augmentation**"
      ],
      "metadata": {
        "id": "Qj-zEq8LlP4t"
      }
    },
    {
      "cell_type": "markdown",
      "source": [
        "Images are augmented and its coresponding annotation is created using this script"
      ],
      "metadata": {
        "id": "6u7tD124legS"
      }
    },
    {
      "cell_type": "markdown",
      "source": [
        "For this I am using Dataset from Roboflow Universe\n",
        "[Dataset Link](https://public.roboflow.com/object-detection/chess-full)\n",
        "\n",
        "The edges of the chess board were labeled using Labelme desktop software, as the Roboflow platform did not support keypoint annotation at that time."
      ],
      "metadata": {
        "id": "6H_6_fnNlxoe"
      }
    },
    {
      "cell_type": "markdown",
      "source": [
        "\n",
        "\n",
        "```\n",
        "# If you run this on your dataset and your colab account only you need to do is change the file paths\n",
        "```\n",
        "\n"
      ],
      "metadata": {
        "id": "EXT6AfNhoJdm"
      }
    },
    {
      "cell_type": "code",
      "execution_count": null,
      "metadata": {
        "colab": {
          "background_save": true,
          "base_uri": "https://localhost:8080/"
        },
        "id": "CKjYOsPzE0vq",
        "outputId": "2acb6a4b-8828-4e9c-c57a-7572b47012ba"
      },
      "outputs": [
        {
          "name": "stdout",
          "output_type": "stream",
          "text": [
            "/content/drive/MyDrive/KeyPoint\n"
          ]
        }
      ],
      "source": [
        "%cd /content/drive/MyDrive/KeyPoint"
      ]
    },
    {
      "cell_type": "code",
      "execution_count": null,
      "metadata": {
        "colab": {
          "background_save": true,
          "base_uri": "https://localhost:8080/"
        },
        "id": "nbvm8j-DE-iP",
        "outputId": "375410e3-be6d-4278-b518-3d29283a9a2d"
      },
      "outputs": [
        {
          "name": "stdout",
          "output_type": "stream",
          "text": [
            "Chess_Augmentation.ipynb  data\tdata_creation.ipynb\n"
          ]
        }
      ],
      "source": [
        "!ls"
      ]
    },
    {
      "cell_type": "code",
      "execution_count": null,
      "metadata": {
        "colab": {
          "background_save": true
        },
        "id": "pRzbrJylEwdE"
      },
      "outputs": [],
      "source": [
        "import os\n",
        "import albumentations as alb\n",
        "import cv2\n",
        "import json\n",
        "import numpy as np"
      ]
    },
    {
      "cell_type": "markdown",
      "source": [
        "### **Augmentations**\n",
        "1. Random Brightness Contrast\n",
        "2. Random Gamma\n",
        "3. RGB Shift"
      ],
      "metadata": {
        "id": "iakll1JPorfH"
      }
    },
    {
      "cell_type": "code",
      "execution_count": null,
      "metadata": {
        "colab": {
          "background_save": true
        },
        "id": "NdizFpQDD_5l"
      },
      "outputs": [],
      "source": [
        "augmentor = alb.Compose([alb.RandomBrightnessContrast(p=0.2),\n",
        "                         alb.RandomGamma(p=0.2), \n",
        "                         alb.RGBShift(p=0.2)], \n",
        "                         keypoint_params=alb.KeypointParams(format='xy', label_fields=['class_labels']))"
      ]
    },
    {
      "cell_type": "markdown",
      "source": [
        "Create a new folder and save augmented data for it"
      ],
      "metadata": {
        "id": "YnOvL_gcoh_j"
      }
    },
    {
      "cell_type": "code",
      "execution_count": null,
      "metadata": {
        "colab": {
          "background_save": true
        },
        "id": "Vp-O_IB9KxLk"
      },
      "outputs": [],
      "source": [
        "data_dir = r'/content/drive/MyDrive/KeyPoint/data'\n",
        "save_dir = r'/content/drive/MyDrive/KeyPoint/data/aug3'\n",
        "\n",
        "save_img_dir = os.path.join(save_dir,'images')\n",
        "save_label_dir = os.path.join(save_dir,'labels')\n",
        "\n",
        "if not os.path.exists(save_img_dir):\n",
        "  os.makedirs(save_img_dir)\n",
        "if not os.path.exists(save_label_dir):\n",
        "  os.makedirs(save_label_dir)"
      ]
    },
    {
      "cell_type": "code",
      "execution_count": null,
      "metadata": {
        "colab": {
          "background_save": true
        },
        "id": "YC-V24PtOK2v"
      },
      "outputs": [],
      "source": [
        "from pathlib import Path"
      ]
    },
    {
      "cell_type": "code",
      "execution_count": null,
      "metadata": {
        "colab": {
          "background_save": true
        },
        "id": "p6f22qQVOz0o"
      },
      "outputs": [],
      "source": [
        "# Labels --> LU RU LD RD\n",
        "# LU 0 1\n",
        "# RU 2 3\n",
        "# LD 4 5\n",
        "# RD 6 7\n",
        "\n",
        "class_labels = ['LU', 'RU' ,'LD' ,'RD']"
      ]
    },
    {
      "cell_type": "code",
      "execution_count": null,
      "metadata": {
        "colab": {
          "background_save": true,
          "base_uri": "https://localhost:8080/"
        },
        "id": "DcONPKIvEtGO",
        "outputId": "76961ee9-9373-4f57-ff10-d069e467f99b"
      },
      "outputs": [
        {
          "name": "stdout",
          "output_type": "stream",
          "text": [
            "/content/drive/MyDrive/KeyPoint/data/labels/7e97f49e613a59a70b833e4c0b2c1c04_jpg.rf.a1e88ea551f203aa622fb4b959241ad3.json\n",
            "[65.70925110132161, 31.348017621145384, 313.7268722466961, 34.872246696035255, 31.348017621145388, 373.63876651982383, 375.40088105726875, 363.9471365638767]\n",
            "[0, 0, 0, 0, 0, 0, 0, 0]\n",
            "[0, 0, 0, 0, 0, 0, 0, 0]\n",
            "[0, 0, 0, 0, 0, 0, 0, 0]\n",
            "[0, 0, 0, 0, 0, 0, 0, 0]\n",
            "[0, 0, 0, 0, 0, 0, 0, 0]\n",
            "/content/drive/MyDrive/KeyPoint/data/labels/8ec14357f5f18fb98db86e0283623150_jpg.rf.bd219e41916cc083a49cc36b41f392f7.json\n",
            "[65.70925110132161, 30.466960352422916, 314.6079295154185, 33.99118942731279, 31.78854625550663, 371.87665198237886, 374.51982378854626, 363.50660792951544]\n",
            "[0, 0, 0, 0, 0, 0, 0, 0]\n",
            "[0, 0, 0, 0, 0, 0, 0, 0]\n",
            "[0, 0, 0, 0, 0, 0, 0, 0]\n",
            "[0, 0, 0, 0, 0, 0, 0, 0]\n",
            "[0, 0, 0, 0, 0, 0, 0, 0]\n",
            "/content/drive/MyDrive/KeyPoint/data/labels/7e862b85e33cd247ed66447d129e5fb4_jpg.rf.d724a7b61892f010e784e1fb02163fde.json\n",
            "[65.26872246696037, 31.348017621145384, 314.6079295154185, 33.99118942731279, 31.348017621145388, 373.19823788546256, 374.51982378854626, 363.50660792951544]\n",
            "[0, 0, 0, 0, 0, 0, 0, 0]\n",
            "[0, 0, 0, 0, 0, 0, 0, 0]\n",
            "[0, 0, 0, 0, 0, 0, 0, 0]\n",
            "[0, 0, 0, 0, 0, 0, 0, 0]\n",
            "[0, 0, 0, 0, 0, 0, 0, 0]\n",
            "/content/drive/MyDrive/KeyPoint/data/labels/3e0c67f38992fe16dfc163f7f5336263_jpg.rf.0e5421354d924838c864004230040de3.json\n",
            "[66.14977973568283, 31.348017621145384, 313.7268722466961, 32.66960352422909, 33.11013215859033, 373.19823788546256, 375.40088105726875, 361.7444933920705]\n",
            "[0, 0, 0, 0, 0, 0, 0, 0]\n",
            "[0, 0, 0, 0, 0, 0, 0, 0]\n",
            "[0, 0, 0, 0, 0, 0, 0, 0]\n",
            "[0, 0, 0, 0, 0, 0, 0, 0]\n",
            "[0, 0, 0, 0, 0, 0, 0, 0]\n",
            "/content/drive/MyDrive/KeyPoint/data/labels/55be99616328f83dcbfe8c18e1387c0e_jpg.rf.09eb91daa78e9b5e3f3f80d58d7cfd2c.json\n",
            "[65.70925110132161, 30.466960352422916, 315.488986784141, 33.550660792951554, 31.78854625550663, 371.87665198237886, 374.51982378854626, 363.0660792951542]\n",
            "[0, 0, 0, 0, 0, 0, 0, 0]\n",
            "[0, 0, 0, 0, 0, 0, 0, 0]\n",
            "[0, 0, 0, 0, 0, 0, 0, 0]\n",
            "[0, 0, 0, 0, 0, 0, 0, 0]\n",
            "[0, 0, 0, 0, 0, 0, 0, 0]\n",
            "/content/drive/MyDrive/KeyPoint/data/labels/3baf85c957b9d28a16c0b65cb2ef0d29_jpg.rf.48c429fa64989ca4d4df1acca8be89da.json\n",
            "[82.8898678414097, 13.286343612334813, 326.5022026431718, 24.740088105726883, 43.2422907488987, 337.0748898678414, 377.60352422907494, 346.7665198237886]\n",
            "[0, 0, 0, 0, 0, 0, 0, 0]\n",
            "[0, 0, 0, 0, 0, 0, 0, 0]\n",
            "[0, 0, 0, 0, 0, 0, 0, 0]\n",
            "[0, 0, 0, 0, 0, 0, 0, 0]\n",
            "[0, 0, 0, 0, 0, 0, 0, 0]\n",
            "/content/drive/MyDrive/KeyPoint/data/labels/57d1d1fb35ed875f9e770660bb03b6d7_jpg.rf.7305628f361b27e4327e857364d73a57.json\n",
            "[65.70925110132161, 32.22907488986785, 313.7268722466961, 32.66960352422909, 32.66960352422909, 373.63876651982383, 375.40088105726875, 362.18502202643174]\n",
            "[0, 0, 0, 0, 0, 0, 0, 0]\n",
            "[0, 0, 0, 0, 0, 0, 0, 0]\n",
            "[0, 0, 0, 0, 0, 0, 0, 0]\n",
            "[0, 0, 0, 0, 0, 0, 0, 0]\n",
            "[0, 0, 0, 0, 0, 0, 0, 0]\n",
            "/content/drive/MyDrive/KeyPoint/data/labels/3aafc2d38807dddd1b43a54cb70f500d_jpg.rf.ed73dbeebcfa9f363296513ffbcc5e21.json\n",
            "[83.33039647577094, 12.405286343612346, 326.9427312775331, 24.740088105726883, 42.80176211453745, 336.6343612334802, 377.60352422907494, 346.7665198237886]\n",
            "[0, 0, 0, 0, 0, 0, 0, 0]\n",
            "[0, 0, 0, 0, 0, 0, 0, 0]\n",
            "[0, 0, 0, 0, 0, 0, 0, 0]\n",
            "[0, 0, 0, 0, 0, 0, 0, 0]\n",
            "[0, 0, 0, 0, 0, 0, 0, 0]\n",
            "/content/drive/MyDrive/KeyPoint/data/labels/1be2a621f309c7482e9a79ad5b23ecbe_jpg.rf.5d2d32b4f20a7c6b2f20d7a176f86f65.json\n",
            "[65.59075907590758, 30.693069306930692, 314.1056105610561, 33.993399339933994, 31.927392739273927, 372.6072607260726, 373.84158415841586, 362.7062706270627]\n",
            "[0, 0, 0, 0, 0, 0, 0, 0]\n",
            "[0, 0, 0, 0, 0, 0, 0, 0]\n",
            "[0, 0, 0, 0, 0, 0, 0, 0]\n",
            "[0, 0, 0, 0, 0, 0, 0, 0]\n",
            "[0, 0, 0, 0, 0, 0, 0, 0]\n",
            "/content/drive/MyDrive/KeyPoint/data/labels/0d9afc3d23392c3958f53d7fe71fd2f1_jpg.rf.d86a1a0bc3be3f8a8beceee6dec24c74.json\n",
            "[71.53135313531352, 32.67326732673267, 320.04620462046205, 36.63366336633663, 37.20792079207921, 372.27722772277224, 379.1221122112211, 365.67656765676566]\n",
            "[0, 0, 0, 0, 0, 0, 0, 0]\n",
            "[0, 0, 0, 0, 0, 0, 0, 0]\n",
            "[0, 0, 0, 0, 0, 0, 0, 0]\n",
            "[0, 0, 0, 0, 0, 0, 0, 0]\n",
            "[0, 0, 0, 0, 0, 0, 0, 0]\n",
            "/content/drive/MyDrive/KeyPoint/data/labels/0b2252c93c53e1b2e61d485b22328e2e_jpg.rf.cdc30f42efb14c237b46e21391adfb80.json\n",
            "[71.86138613861387, 33.003300330033, 319.7161716171617, 36.63366336633663, 37.20792079207921, 372.6072607260726, 378.46204620462044, 365.67656765676566]\n",
            "[0, 0, 0, 0, 0, 0, 0, 0]\n",
            "[0, 0, 0, 0, 0, 0, 0, 0]\n",
            "[0, 0, 0, 0, 0, 0, 0, 0]\n",
            "[0, 0, 0, 0, 0, 0, 0, 0]\n",
            "[0, 0, 0, 0, 0, 0, 0, 0]\n",
            "/content/drive/MyDrive/KeyPoint/data/labels/0c09b79cff39932c59ecc745dd827906_jpg.rf.da2aadb8abf41a16fb4b93203be210ca.json\n",
            "[65.59075907590758, 31.68316831683168, 314.1056105610561, 33.33333333333333, 33.90759075907591, 372.6072607260726, 375.1617161716172, 362.046204620462]\n",
            "[0, 0, 0, 0, 0, 0, 0, 0]\n",
            "[0, 0, 0, 0, 0, 0, 0, 0]\n",
            "[0, 0, 0, 0, 0, 0, 0, 0]\n",
            "[0, 0, 0, 0, 0, 0, 0, 0]\n",
            "[0, 0, 0, 0, 0, 0, 0, 0]\n",
            "/content/drive/MyDrive/KeyPoint/data/labels/05ad7223827a29a8283f6c4b2490f52f_jpg.rf.2b84014189910bf0785738b78e3d2c64.json\n",
            "[66.14977973568283, 30.907488986784152, 313.7268722466961, 33.550660792951554, 31.78854625550663, 371.87665198237886, 374.51982378854626, 362.625550660793]\n",
            "[0, 0, 0, 0, 0, 0, 0, 0]\n",
            "[0, 0, 0, 0, 0, 0, 0, 0]\n",
            "[0, 0, 0, 0, 0, 0, 0, 0]\n",
            "[0, 0, 0, 0, 0, 0, 0, 0]\n",
            "[0, 0, 0, 0, 0, 0, 0, 0]\n"
          ]
        }
      ],
      "source": [
        "for image in os.listdir(os.path.join(data_dir, 'images')):\n",
        "    img = cv2.imread(os.path.join(data_dir, 'images', image))\n",
        "\n",
        "    classes = [0] * 4\n",
        "    coords = [0] * 8\n",
        "    image_name = Path(image).stem\n",
        "\n",
        "    label_path = os.path.join(data_dir, 'labels', f'{image_name}.json')\n",
        "    print(label_path)\n",
        "\n",
        "    if os.path.exists(label_path):\n",
        "        with open(label_path, 'r') as f:\n",
        "            label = json.load(f)\n",
        "\n",
        "        h = label[\"imageHeight\"]\n",
        "        w = label[\"imageWidth\"]\n",
        "        #print(h,w)\n",
        "\n",
        "        for shape in label['shapes']:\n",
        "          if shape['label']== 'LU': \n",
        "            classes[0] = 1\n",
        "            coords[0] = np.squeeze(shape['points'])[0]  # x\n",
        "            coords[1] = np.squeeze(shape['points'])[1]  # y\n",
        "\n",
        "          elif shape['label']== 'RU': \n",
        "            classes[1] = 1\n",
        "            coords[2] = np.squeeze(shape['points'])[0]\n",
        "            coords[3] = np.squeeze(shape['points'])[1]\n",
        "        \n",
        "          elif shape['label']== 'LD': \n",
        "            classes[2] = 1\n",
        "            coords[4] = np.squeeze(shape['points'])[0]\n",
        "            coords[5] = np.squeeze(shape['points'])[1]\n",
        "\n",
        "          elif shape['label']== 'RD': \n",
        "            classes[3] = 1\n",
        "            coords[6] = np.squeeze(shape['points'])[0]\n",
        "            coords[7] = np.squeeze(shape['points'])[1]\n",
        "\n",
        "        print(coords)\n",
        "        # normalize\n",
        "        d_vec = [w,h, w,h, w,h, w,h]\n",
        "        np.divide(coords, d_vec)\n",
        "\n",
        "    try: \n",
        "      for x in range(5):\n",
        "          keypoints = [(coords[:2]), (coords[:4]) , (coords[:6]), (coords[:8])]\n",
        "          augmented = augmentor(image=img, keypoints=keypoints, class_labels=['LU', 'RU', 'LD', 'RD'])\n",
        "          #print(augmented)\n",
        "          \n",
        "          cv2.imwrite(os.path.join(save_img_dir, f'{image_name.split(\".\")[0]}_{x}.jpg'), augmented['image'])\n",
        "\n",
        "          annotation = {}\n",
        "          annotation['image'] = image\n",
        "          annotation['class'] = [0] * 4\n",
        "          annotation['keypoints'] = [0] * 8\n",
        "\n",
        "          if os.path.exists(label_path):\n",
        "              if len(augmented['keypoints']) > 0: \n",
        "                  for idx, cl in enumerate(augmented['class_labels']):\n",
        "                    #print(cl)\n",
        "                    if cl == 'LU': \n",
        "                        annotation['class'][0] = 1 \n",
        "                        print(annotation['keypoints'])\n",
        "                        annotation['keypoints'][0] = augmented['keypoints'][idx][0]\n",
        "                        annotation['keypoints'][1] = augmented['keypoints'][idx][1]\n",
        "                    \n",
        "                    elif cl == 'RU': \n",
        "                        annotation['class'][1] = 1 \n",
        "                        annotation['keypoints'][2] = augmented['keypoints'][idx][2]\n",
        "                        annotation['keypoints'][3] = augmented['keypoints'][idx][3]\n",
        "                    \n",
        "                    elif cl == 'LD': \n",
        "                        annotation['class'][2] = 1 \n",
        "                        annotation['keypoints'][4] = augmented['keypoints'][idx][4]\n",
        "                        annotation['keypoints'][5] = augmented['keypoints'][idx][5]\n",
        "\n",
        "                    elif cl == 'RD': \n",
        "                        annotation['class'][3] = 1 \n",
        "                        annotation['keypoints'][6] = augmented['keypoints'][idx][6]\n",
        "                        annotation['keypoints'][7] = augmented['keypoints'][idx][7]\n",
        "                          \n",
        "          annotation['keypoints'] = list(np.divide(annotation['keypoints'], d_vec))\n",
        "\n",
        "\n",
        "          with open(os.path.join(save_label_dir, f'{image_name.split(\".\")[0]}_{x}.json'), 'w') as f:\n",
        "              json.dump(annotation, f)\n",
        "\n",
        "    except Exception as e:\n",
        "      print(e)\n"
      ]
    },
    {
      "cell_type": "code",
      "execution_count": null,
      "metadata": {
        "colab": {
          "background_save": true
        },
        "id": "DrotXhxkFCUH"
      },
      "outputs": [],
      "source": [
        "# for image in os.listdir(os.path.join('data', 'images')):\n",
        "#     img = cv2.imread(os.path.join('data', 'images', image))\n",
        "\n",
        "#     classes = [0,0]\n",
        "#     coords = [0,0,0.00001,0.00001]\n",
        "#     label_path = os.path.join('data', 'labels', f'{image.split(\".\")[0]}.json')\n",
        "#     if os.path.exists(label_path):\n",
        "#         with open(label_path, 'r') as f:\n",
        "#             label = json.load(f)\n",
        "\n",
        "#         if label['shapes'][0]['label']== 'LeftEye': \n",
        "#             classes[0] = 1\n",
        "#             coords[0] = np.squeeze(label['shapes'][0]['points'])[0]\n",
        "#             coords[1] = np.squeeze(label['shapes'][0]['points'])[1]\n",
        "\n",
        "#         if label['shapes'][0]['label']== 'RightEye':\n",
        "#             classes[1] = 1\n",
        "#             coords[2] = np.squeeze(label['shapes'][0]['points'])[0]\n",
        "#             coords[3] = np.squeeze(label['shapes'][0]['points'])[1]\n",
        "\n",
        "        \n",
        "#         np.divide(coords, [640,480,640,480])\n",
        "            \n",
        "#     try: \n",
        "#         for x in range(120):\n",
        "#             keypoints = [(coords[:2]), (coords[2:])]\n",
        "#             augmented = augmentor(image=img, keypoints=keypoints, class_labels=['LeftEye','RightEye'])\n",
        "#             cv2.imwrite(os.path.join('aug_data', 'images', f'{image.split(\".\")[0]}.{x}.jpg'), augmented['image'])\n",
        "\n",
        "#             annotation = {}\n",
        "#             annotation['image'] = image\n",
        "#             annotation['class'] = [0,0]\n",
        "#             annotation['keypoints'] = [0,0,0,0]\n",
        "\n",
        "#             if os.path.exists(label_path):\n",
        "#                 if len(augmented['keypoints']) > 0: \n",
        "#                     for idx, cl in enumerate(augmented['class_labels']):\n",
        "#                         if cl == 'LeftEye': \n",
        "#                             annotation['class'][0] = 1 \n",
        "#                             annotation['keypoints'][0] = augmented['keypoints'][idx][0]\n",
        "#                             annotation['keypoints'][1] = augmented['keypoints'][idx][1]\n",
        "#                         if cl == 'RightEye': \n",
        "#                             annotation['class'][1] = 1 \n",
        "#                             annotation['keypoints'][2] = augmented['keypoints'][idx][0]\n",
        "#                             annotation['keypoints'][3] = augmented['keypoints'][idx][1]\n",
        "                            \n",
        "#             annotation['keypoints'] = list(np.divide(annotation['keypoints'], [450,450,450,450]))\n",
        "\n",
        "\n",
        "#             #with open(os.path.join('aug_data', 'labels', f'{image.split(\".\")[0]}.{x}.json'), 'w') as f:\n",
        "#             #    json.dump(annotation, f)\n",
        "\n",
        "#     except Exception as e:\n",
        "#         print(e)"
      ]
    }
  ],
  "metadata": {
    "colab": {
      "provenance": []
    },
    "gpuClass": "standard",
    "kernelspec": {
      "display_name": "Python 3",
      "name": "python3"
    },
    "language_info": {
      "name": "python"
    }
  },
  "nbformat": 4,
  "nbformat_minor": 0
}